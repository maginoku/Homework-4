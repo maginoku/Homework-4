{
 "cells": [
  {
   "cell_type": "code",
   "execution_count": 1,
   "metadata": {},
   "outputs": [],
   "source": [
    "#Import Important Packages\n",
    "\n",
    "import numpy as np\n",
    "import graphviz\n",
    "import pandas as pd\n"
   ]
  },
  {
   "cell_type": "code",
   "execution_count": 2,
   "metadata": {},
   "outputs": [],
   "source": [
    "#Import Algorithms\n",
    "\n",
    "from sklearn import tree\n",
    "from sklearn.model_selection import train_test_split\n",
    "from sklearn import preprocessing\n",
    "from sklearn.metrics import precision_score,f1_score, recall_score, accuracy_score\n",
    "from sklearn.naive_bayes import GaussianNB, CategoricalNB\n"
   ]
  },
  {
   "cell_type": "code",
   "execution_count": 3,
   "metadata": {},
   "outputs": [],
   "source": [
    "#Making the Training data frame\n",
    "\n",
    "#Home: 1 - HOME, 0 - AWAY\n",
    "#Top: 1 - IN, 0 - OUT\n",
    "#Media: 1 - NBC, 2 - ESPN, 3 - FOX, 4 - ABC\n",
    "#Result: 1 - WIN, 0 - LOSE\n",
    "\n",
    "train = {'home': [1, 0, 1, 1, 0, 1, 1, 0, 0, 1, 0, 0, 0, 1, 1, 1, 1, 0, 1, 1, 1, 1, 1, 0],\n",
    "            'top': [0, 0, 1, 0, 1, 0, 1, 0, 0, 0, 0, 1, 0, 0, 0, 0, 0, 0, 1, 0, 0, 0, 1, 1],\n",
    "            'media': [1, 4, 1, 1, 4, 1, 1, 4, 4, 1, 1, 3, 4, 1, 1, 1, 2, 4, 1, 1, 5, 1, 1, 4],\n",
    "            'result': [1, 1, 1, 1, 0, 1, 1, 1, 1, 1, 1, 0, 0, 1, 0, 0, 1, 0, 0, 1, 0, 1, 0, 0, ]}\n"
   ]
  },
  {
   "cell_type": "code",
   "execution_count": 4,
   "metadata": {},
   "outputs": [],
   "source": [
    "#Making Test data frame and labels\n",
    "\n",
    "test = {'home': [1, 1, 0, 0, 1, 0, 1, 1, 1, 0, 1, 0],\n",
    "           'top': [0, 1, 0, 0, 0, 0, 1, 0, 0, 1, 0, 1],\n",
    "           'media': [1, 1, 2, 3, 1, 4, 1, 1, 1, 4, 1, 4]}\n",
    "\n",
    "y = [1, 0, 1, 1, 1, 1, 1, 1, 1, 0, 1, 0]\n"
   ]
  },
  {
   "cell_type": "code",
   "execution_count": 5,
   "metadata": {},
   "outputs": [],
   "source": [
    "#Creating a matrix data frame\n",
    "\n",
    "train_DF = pd.DataFrame(data = train)\n",
    "test_DF = pd.DataFrame(data = test)\n"
   ]
  },
  {
   "cell_type": "code",
   "execution_count": 7,
   "metadata": {},
   "outputs": [],
   "source": [
    "#Calling the naive bayes functions\n",
    "\n",
    "Gazn = GaussianNB()\n",
    "Cat = CategoricalNB()\n",
    "\n",
    "y_Predictor1 = Gazn.fit(train_DF.iloc[:,:3],train_DF[\"result\"]).predict(test_DF)\n",
    "y_Predictor2 = Cat.fit(train_DF.iloc[:,:3],train_DF[\"result\"]).predict(test_DF)\n",
    "\n",
    "\n",
    "#Make variables for the results so it can be viewed\n",
    "precision = precision_score(y, y_Predictor1)\n",
    "F1 = f1_score(y, y_Predictor1)\n",
    "recall = recall_score(y, y_Predictor1)\n",
    "accuracy = accuracy_score(y, y_Predictor1)\n",
    "\n",
    "#Make variables for the results so it can be viewed\n",
    "precision2 = precision_score(y, y_Predictor2)\n",
    "F1_2 = f1_score(y, y_Predictor2)\n",
    "recall2 = recall_score(y, y_Predictor2)\n",
    "accuracy2 = accuracy_score(y, y_Predictor2)\n"
   ]
  },
  {
   "cell_type": "code",
   "execution_count": 15,
   "metadata": {},
   "outputs": [
    {
     "name": "stdout",
     "output_type": "stream",
     "text": [
      "For GaussianNB\n",
      "Precision Score:  1.0\n",
      "F1 Score:  0.8750000000000001\n",
      "Recall Score:  0.7777777777777778\n",
      "Accuracy Score:  0.8333333333333334\n",
      "Prediction Results: [1 0 1 1 1 0 0 1 1 0 1 0]\n",
      "\n",
      "\n",
      "For CategoricalNB\n",
      "Precision Score:  0.875\n",
      "F1 Score:  0.823529411764706\n",
      "Recall Score:  0.7777777777777778\n",
      "Accuracy Score:  0.75\n",
      "Prediction Results: [1 1 1 0 1 0 1 1 1 0 1 0]\n",
      "\n",
      "\n"
     ]
    }
   ],
   "source": [
    "#Print the results and list it below. \n",
    "\n",
    "##################################################\n",
    "print(\"For GaussianNB\")                          #\n",
    "print(\"Precision Score: \", precision)            #\n",
    "print(\"F1 Score: \", F1)                          #\n",
    "print(\"Recall Score: \", recall)                  #\n",
    "print(\"Accuracy Score: \", accuracy)              #\n",
    "print(\"Prediction Results:\", y_Predictor1)       #\n",
    "print(\"\"\"\"\"\"\"\")                                  #\n",
    "print(\"\"\"\"\"\"\"\")                                  #\n",
    "##################################################\n",
    "\n",
    "##################################################\n",
    "print(\"For CategoricalNB\")                       #\n",
    "print(\"Precision Score: \", precision2)           #\n",
    "print(\"F1 Score: \", F1_2)                        #\n",
    "print(\"Recall Score: \", recall2)                 #\n",
    "print(\"Accuracy Score: \", accuracy2)             #\n",
    "print(\"Prediction Results:\", y_Predictor2)       #\n",
    "print(\"\"\"\"\"\"\"\")                                  #\n",
    "print(\"\"\"\"\"\"\"\")                                  #\n",
    "##################################################"
   ]
  }
 ],
 "metadata": {
  "kernelspec": {
   "display_name": "Python 3",
   "language": "python",
   "name": "python3"
  },
  "language_info": {
   "codemirror_mode": {
    "name": "ipython",
    "version": 3
   },
   "file_extension": ".py",
   "mimetype": "text/x-python",
   "name": "python",
   "nbconvert_exporter": "python",
   "pygments_lexer": "ipython3",
   "version": "3.7.6"
  }
 },
 "nbformat": 4,
 "nbformat_minor": 2
}
